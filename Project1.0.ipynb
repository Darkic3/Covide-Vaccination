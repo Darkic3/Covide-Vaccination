{
 "cells": [
  {
   "cell_type": "markdown",
   "metadata": {},
   "source": [
    "<img src=\"https://webna.ir/wp-content/uploads/2018/08/%D9%85%DA%A9%D8%AA%D8%A8-%D8%AE%D9%88%D9%86%D9%87.png\" width=50% />"
   ]
  },
  {
   "cell_type": "markdown",
   "metadata": {},
   "source": [
    "<div class=\"alert alert-block alert-success\">\n",
    "    <h1 align=\"center\">Machine Learning in Python</h1>\n",
    "    <h3 align=\"center\">Project1</h3>\n",
    "</div>"
   ]
  },
  {
   "cell_type": "markdown",
   "metadata": {},
   "source": [
    "<img src = \"https://www.eesc.europa.eu/sites/default/files/styles/large/public/images/shutterstock_1642888921.jpg?itok=P9-6YhGd\" width=50%>"
   ]
  },
  {
   "cell_type": "markdown",
   "metadata": {},
   "source": [
    "## Importing the libraries"
   ]
  },
  {
   "cell_type": "code",
   "execution_count": 10,
   "metadata": {},
   "outputs": [],
   "source": [
    "%matplotlib inline\n",
    "import numpy as np\n",
    "import pandas as pd\n",
    "import matplotlib.pyplot as plt\n",
    "import seaborn as sns\n",
    "import plotly.express as px\n",
    "\n",
    "from pycaret import *"
   ]
  },
  {
   "cell_type": "markdown",
   "metadata": {},
   "source": [
    "## Load and Prepare Data"
   ]
  },
  {
   "cell_type": "code",
   "execution_count": 11,
   "metadata": {},
   "outputs": [
    {
     "data": {
      "text/html": [
       "<div>\n",
       "<style scoped>\n",
       "    .dataframe tbody tr th:only-of-type {\n",
       "        vertical-align: middle;\n",
       "    }\n",
       "\n",
       "    .dataframe tbody tr th {\n",
       "        vertical-align: top;\n",
       "    }\n",
       "\n",
       "    .dataframe thead th {\n",
       "        text-align: right;\n",
       "    }\n",
       "</style>\n",
       "<table border=\"1\" class=\"dataframe\">\n",
       "  <thead>\n",
       "    <tr style=\"text-align: right;\">\n",
       "      <th></th>\n",
       "      <th>country</th>\n",
       "      <th>iso_code</th>\n",
       "      <th>date</th>\n",
       "      <th>total_vaccinations</th>\n",
       "      <th>people_vaccinated</th>\n",
       "      <th>people_fully_vaccinated</th>\n",
       "      <th>daily_vaccinations_raw</th>\n",
       "      <th>daily_vaccinations</th>\n",
       "      <th>total_vaccinations_per_hundred</th>\n",
       "      <th>people_vaccinated_per_hundred</th>\n",
       "      <th>people_fully_vaccinated_per_hundred</th>\n",
       "      <th>daily_vaccinations_per_million</th>\n",
       "      <th>vaccines</th>\n",
       "      <th>source_name</th>\n",
       "      <th>source_website</th>\n",
       "    </tr>\n",
       "  </thead>\n",
       "  <tbody>\n",
       "    <tr>\n",
       "      <th>0</th>\n",
       "      <td>Afghanistan</td>\n",
       "      <td>AFG</td>\n",
       "      <td>2021-02-22</td>\n",
       "      <td>0.0</td>\n",
       "      <td>0.0</td>\n",
       "      <td>NaN</td>\n",
       "      <td>NaN</td>\n",
       "      <td>NaN</td>\n",
       "      <td>0.0</td>\n",
       "      <td>0.0</td>\n",
       "      <td>NaN</td>\n",
       "      <td>NaN</td>\n",
       "      <td>Johnson&amp;Johnson, Oxford/AstraZeneca, Pfizer/Bi...</td>\n",
       "      <td>World Health Organization</td>\n",
       "      <td>https://covid19.who.int/</td>\n",
       "    </tr>\n",
       "    <tr>\n",
       "      <th>1</th>\n",
       "      <td>Afghanistan</td>\n",
       "      <td>AFG</td>\n",
       "      <td>2021-02-23</td>\n",
       "      <td>NaN</td>\n",
       "      <td>NaN</td>\n",
       "      <td>NaN</td>\n",
       "      <td>NaN</td>\n",
       "      <td>1367.0</td>\n",
       "      <td>NaN</td>\n",
       "      <td>NaN</td>\n",
       "      <td>NaN</td>\n",
       "      <td>35.0</td>\n",
       "      <td>Johnson&amp;Johnson, Oxford/AstraZeneca, Pfizer/Bi...</td>\n",
       "      <td>World Health Organization</td>\n",
       "      <td>https://covid19.who.int/</td>\n",
       "    </tr>\n",
       "    <tr>\n",
       "      <th>2</th>\n",
       "      <td>Afghanistan</td>\n",
       "      <td>AFG</td>\n",
       "      <td>2021-02-24</td>\n",
       "      <td>NaN</td>\n",
       "      <td>NaN</td>\n",
       "      <td>NaN</td>\n",
       "      <td>NaN</td>\n",
       "      <td>1367.0</td>\n",
       "      <td>NaN</td>\n",
       "      <td>NaN</td>\n",
       "      <td>NaN</td>\n",
       "      <td>35.0</td>\n",
       "      <td>Johnson&amp;Johnson, Oxford/AstraZeneca, Pfizer/Bi...</td>\n",
       "      <td>World Health Organization</td>\n",
       "      <td>https://covid19.who.int/</td>\n",
       "    </tr>\n",
       "    <tr>\n",
       "      <th>3</th>\n",
       "      <td>Afghanistan</td>\n",
       "      <td>AFG</td>\n",
       "      <td>2021-02-25</td>\n",
       "      <td>NaN</td>\n",
       "      <td>NaN</td>\n",
       "      <td>NaN</td>\n",
       "      <td>NaN</td>\n",
       "      <td>1367.0</td>\n",
       "      <td>NaN</td>\n",
       "      <td>NaN</td>\n",
       "      <td>NaN</td>\n",
       "      <td>35.0</td>\n",
       "      <td>Johnson&amp;Johnson, Oxford/AstraZeneca, Pfizer/Bi...</td>\n",
       "      <td>World Health Organization</td>\n",
       "      <td>https://covid19.who.int/</td>\n",
       "    </tr>\n",
       "    <tr>\n",
       "      <th>4</th>\n",
       "      <td>Afghanistan</td>\n",
       "      <td>AFG</td>\n",
       "      <td>2021-02-26</td>\n",
       "      <td>NaN</td>\n",
       "      <td>NaN</td>\n",
       "      <td>NaN</td>\n",
       "      <td>NaN</td>\n",
       "      <td>1367.0</td>\n",
       "      <td>NaN</td>\n",
       "      <td>NaN</td>\n",
       "      <td>NaN</td>\n",
       "      <td>35.0</td>\n",
       "      <td>Johnson&amp;Johnson, Oxford/AstraZeneca, Pfizer/Bi...</td>\n",
       "      <td>World Health Organization</td>\n",
       "      <td>https://covid19.who.int/</td>\n",
       "    </tr>\n",
       "  </tbody>\n",
       "</table>\n",
       "</div>"
      ],
      "text/plain": [
       "       country iso_code        date  total_vaccinations  people_vaccinated  \\\n",
       "0  Afghanistan      AFG  2021-02-22                 0.0                0.0   \n",
       "1  Afghanistan      AFG  2021-02-23                 NaN                NaN   \n",
       "2  Afghanistan      AFG  2021-02-24                 NaN                NaN   \n",
       "3  Afghanistan      AFG  2021-02-25                 NaN                NaN   \n",
       "4  Afghanistan      AFG  2021-02-26                 NaN                NaN   \n",
       "\n",
       "   people_fully_vaccinated  daily_vaccinations_raw  daily_vaccinations  \\\n",
       "0                      NaN                     NaN                 NaN   \n",
       "1                      NaN                     NaN              1367.0   \n",
       "2                      NaN                     NaN              1367.0   \n",
       "3                      NaN                     NaN              1367.0   \n",
       "4                      NaN                     NaN              1367.0   \n",
       "\n",
       "   total_vaccinations_per_hundred  people_vaccinated_per_hundred  \\\n",
       "0                             0.0                            0.0   \n",
       "1                             NaN                            NaN   \n",
       "2                             NaN                            NaN   \n",
       "3                             NaN                            NaN   \n",
       "4                             NaN                            NaN   \n",
       "\n",
       "   people_fully_vaccinated_per_hundred  daily_vaccinations_per_million  \\\n",
       "0                                  NaN                             NaN   \n",
       "1                                  NaN                            35.0   \n",
       "2                                  NaN                            35.0   \n",
       "3                                  NaN                            35.0   \n",
       "4                                  NaN                            35.0   \n",
       "\n",
       "                                            vaccines  \\\n",
       "0  Johnson&Johnson, Oxford/AstraZeneca, Pfizer/Bi...   \n",
       "1  Johnson&Johnson, Oxford/AstraZeneca, Pfizer/Bi...   \n",
       "2  Johnson&Johnson, Oxford/AstraZeneca, Pfizer/Bi...   \n",
       "3  Johnson&Johnson, Oxford/AstraZeneca, Pfizer/Bi...   \n",
       "4  Johnson&Johnson, Oxford/AstraZeneca, Pfizer/Bi...   \n",
       "\n",
       "                 source_name            source_website  \n",
       "0  World Health Organization  https://covid19.who.int/  \n",
       "1  World Health Organization  https://covid19.who.int/  \n",
       "2  World Health Organization  https://covid19.who.int/  \n",
       "3  World Health Organization  https://covid19.who.int/  \n",
       "4  World Health Organization  https://covid19.who.int/  "
      ]
     },
     "execution_count": 11,
     "metadata": {},
     "output_type": "execute_result"
    }
   ],
   "source": [
    "cv_data = pd.read_csv(\"country_vaccinations.csv\")\n",
    "cv_data.head()"
   ]
  },
  {
   "cell_type": "code",
   "execution_count": 12,
   "metadata": {},
   "outputs": [
    {
     "data": {
      "text/html": [
       "<div>\n",
       "<style scoped>\n",
       "    .dataframe tbody tr th:only-of-type {\n",
       "        vertical-align: middle;\n",
       "    }\n",
       "\n",
       "    .dataframe tbody tr th {\n",
       "        vertical-align: top;\n",
       "    }\n",
       "\n",
       "    .dataframe thead th {\n",
       "        text-align: right;\n",
       "    }\n",
       "</style>\n",
       "<table border=\"1\" class=\"dataframe\">\n",
       "  <thead>\n",
       "    <tr style=\"text-align: right;\">\n",
       "      <th></th>\n",
       "      <th>location</th>\n",
       "      <th>date</th>\n",
       "      <th>vaccine</th>\n",
       "      <th>total_vaccinations</th>\n",
       "    </tr>\n",
       "  </thead>\n",
       "  <tbody>\n",
       "    <tr>\n",
       "      <th>0</th>\n",
       "      <td>Austria</td>\n",
       "      <td>2021-01-08</td>\n",
       "      <td>Johnson&amp;Johnson</td>\n",
       "      <td>0</td>\n",
       "    </tr>\n",
       "    <tr>\n",
       "      <th>1</th>\n",
       "      <td>Austria</td>\n",
       "      <td>2021-01-08</td>\n",
       "      <td>Moderna</td>\n",
       "      <td>0</td>\n",
       "    </tr>\n",
       "    <tr>\n",
       "      <th>2</th>\n",
       "      <td>Austria</td>\n",
       "      <td>2021-01-08</td>\n",
       "      <td>Oxford/AstraZeneca</td>\n",
       "      <td>0</td>\n",
       "    </tr>\n",
       "    <tr>\n",
       "      <th>3</th>\n",
       "      <td>Austria</td>\n",
       "      <td>2021-01-08</td>\n",
       "      <td>Pfizer/BioNTech</td>\n",
       "      <td>30974</td>\n",
       "    </tr>\n",
       "    <tr>\n",
       "      <th>4</th>\n",
       "      <td>Austria</td>\n",
       "      <td>2021-01-15</td>\n",
       "      <td>Johnson&amp;Johnson</td>\n",
       "      <td>0</td>\n",
       "    </tr>\n",
       "  </tbody>\n",
       "</table>\n",
       "</div>"
      ],
      "text/plain": [
       "  location        date             vaccine  total_vaccinations\n",
       "0  Austria  2021-01-08     Johnson&Johnson                   0\n",
       "1  Austria  2021-01-08             Moderna                   0\n",
       "2  Austria  2021-01-08  Oxford/AstraZeneca                   0\n",
       "3  Austria  2021-01-08     Pfizer/BioNTech               30974\n",
       "4  Austria  2021-01-15     Johnson&Johnson                   0"
      ]
     },
     "execution_count": 12,
     "metadata": {},
     "output_type": "execute_result"
    }
   ],
   "source": [
    "cv2_data = pd.read_csv(\"country_vaccinations_by_manufacturer.csv\")\n",
    "cv2_data.head()"
   ]
  },
  {
   "cell_type": "code",
   "execution_count": 13,
   "metadata": {},
   "outputs": [
    {
     "data": {
      "text/plain": [
       "(31240, 15)"
      ]
     },
     "execution_count": 13,
     "metadata": {},
     "output_type": "execute_result"
    }
   ],
   "source": [
    "cv_data.shape"
   ]
  },
  {
   "cell_type": "code",
   "execution_count": 14,
   "metadata": {},
   "outputs": [
    {
     "name": "stdout",
     "output_type": "stream",
     "text": [
      "<class 'pandas.core.frame.DataFrame'>\n",
      "RangeIndex: 31240 entries, 0 to 31239\n",
      "Data columns (total 15 columns):\n",
      " #   Column                               Non-Null Count  Dtype  \n",
      "---  ------                               --------------  -----  \n",
      " 0   country                              31240 non-null  object \n",
      " 1   iso_code                             31240 non-null  object \n",
      " 2   date                                 31240 non-null  object \n",
      " 3   total_vaccinations                   17451 non-null  float64\n",
      " 4   people_vaccinated                    16554 non-null  float64\n",
      " 5   people_fully_vaccinated              13795 non-null  float64\n",
      " 6   daily_vaccinations_raw               14421 non-null  float64\n",
      " 7   daily_vaccinations                   30948 non-null  float64\n",
      " 8   total_vaccinations_per_hundred       17451 non-null  float64\n",
      " 9   people_vaccinated_per_hundred        16554 non-null  float64\n",
      " 10  people_fully_vaccinated_per_hundred  13795 non-null  float64\n",
      " 11  daily_vaccinations_per_million       30948 non-null  float64\n",
      " 12  vaccines                             31240 non-null  object \n",
      " 13  source_name                          31240 non-null  object \n",
      " 14  source_website                       31240 non-null  object \n",
      "dtypes: float64(9), object(6)\n",
      "memory usage: 3.6+ MB\n"
     ]
    }
   ],
   "source": [
    "cv_data.info()"
   ]
  },
  {
   "cell_type": "code",
   "execution_count": 23,
   "metadata": {},
   "outputs": [
    {
     "data": {
      "text/plain": [
       "country                                  218\n",
       "iso_code                                 218\n",
       "date                                     226\n",
       "total_vaccinations                     16998\n",
       "people_vaccinated                      15954\n",
       "people_fully_vaccinated                13072\n",
       "daily_vaccinations_raw                 12463\n",
       "daily_vaccinations                     17641\n",
       "total_vaccinations_per_hundred          6967\n",
       "people_vaccinated_per_hundred           5431\n",
       "people_fully_vaccinated_per_hundred     3943\n",
       "daily_vaccinations_per_million          9400\n",
       "vaccines                                  53\n",
       "source_name                               92\n",
       "source_website                           148\n",
       "dtype: int64"
      ]
     },
     "execution_count": 23,
     "metadata": {},
     "output_type": "execute_result"
    }
   ],
   "source": [
    "cv_data.nunique()"
   ]
  },
  {
   "cell_type": "code",
   "execution_count": 15,
   "metadata": {},
   "outputs": [
    {
     "data": {
      "text/html": [
       "<div>\n",
       "<style scoped>\n",
       "    .dataframe tbody tr th:only-of-type {\n",
       "        vertical-align: middle;\n",
       "    }\n",
       "\n",
       "    .dataframe tbody tr th {\n",
       "        vertical-align: top;\n",
       "    }\n",
       "\n",
       "    .dataframe thead th {\n",
       "        text-align: right;\n",
       "    }\n",
       "</style>\n",
       "<table border=\"1\" class=\"dataframe\">\n",
       "  <thead>\n",
       "    <tr style=\"text-align: right;\">\n",
       "      <th></th>\n",
       "      <th>total_vaccinations</th>\n",
       "      <th>people_vaccinated</th>\n",
       "      <th>people_fully_vaccinated</th>\n",
       "      <th>daily_vaccinations_raw</th>\n",
       "      <th>daily_vaccinations</th>\n",
       "      <th>total_vaccinations_per_hundred</th>\n",
       "      <th>people_vaccinated_per_hundred</th>\n",
       "      <th>people_fully_vaccinated_per_hundred</th>\n",
       "      <th>daily_vaccinations_per_million</th>\n",
       "    </tr>\n",
       "  </thead>\n",
       "  <tbody>\n",
       "    <tr>\n",
       "      <th>count</th>\n",
       "      <td>1.745100e+04</td>\n",
       "      <td>1.655400e+04</td>\n",
       "      <td>1.379500e+04</td>\n",
       "      <td>1.442100e+04</td>\n",
       "      <td>3.094800e+04</td>\n",
       "      <td>17451.000000</td>\n",
       "      <td>16554.000000</td>\n",
       "      <td>13795.000000</td>\n",
       "      <td>30948.000000</td>\n",
       "    </tr>\n",
       "    <tr>\n",
       "      <th>mean</th>\n",
       "      <td>1.200444e+07</td>\n",
       "      <td>5.704551e+06</td>\n",
       "      <td>3.293973e+06</td>\n",
       "      <td>2.273661e+05</td>\n",
       "      <td>1.149718e+05</td>\n",
       "      <td>29.283554</td>\n",
       "      <td>19.181574</td>\n",
       "      <td>12.340698</td>\n",
       "      <td>3426.365969</td>\n",
       "    </tr>\n",
       "    <tr>\n",
       "      <th>std</th>\n",
       "      <td>6.622349e+07</td>\n",
       "      <td>2.101612e+07</td>\n",
       "      <td>1.234425e+07</td>\n",
       "      <td>1.258556e+06</td>\n",
       "      <td>8.460548e+05</td>\n",
       "      <td>35.042304</td>\n",
       "      <td>20.734193</td>\n",
       "      <td>15.857682</td>\n",
       "      <td>4572.377684</td>\n",
       "    </tr>\n",
       "    <tr>\n",
       "      <th>min</th>\n",
       "      <td>0.000000e+00</td>\n",
       "      <td>0.000000e+00</td>\n",
       "      <td>1.000000e+00</td>\n",
       "      <td>0.000000e+00</td>\n",
       "      <td>0.000000e+00</td>\n",
       "      <td>0.000000</td>\n",
       "      <td>0.000000</td>\n",
       "      <td>0.000000</td>\n",
       "      <td>0.000000</td>\n",
       "    </tr>\n",
       "    <tr>\n",
       "      <th>25%</th>\n",
       "      <td>1.262015e+05</td>\n",
       "      <td>9.999100e+04</td>\n",
       "      <td>4.832450e+04</td>\n",
       "      <td>4.324000e+03</td>\n",
       "      <td>8.520000e+02</td>\n",
       "      <td>2.970000</td>\n",
       "      <td>2.580000</td>\n",
       "      <td>1.320000</td>\n",
       "      <td>412.000000</td>\n",
       "    </tr>\n",
       "    <tr>\n",
       "      <th>50%</th>\n",
       "      <td>8.890780e+05</td>\n",
       "      <td>6.450395e+05</td>\n",
       "      <td>3.632100e+05</td>\n",
       "      <td>2.133600e+04</td>\n",
       "      <td>6.471000e+03</td>\n",
       "      <td>14.510000</td>\n",
       "      <td>10.730000</td>\n",
       "      <td>5.560000</td>\n",
       "      <td>1851.000000</td>\n",
       "    </tr>\n",
       "    <tr>\n",
       "      <th>75%</th>\n",
       "      <td>4.213660e+06</td>\n",
       "      <td>2.809300e+06</td>\n",
       "      <td>1.635366e+06</td>\n",
       "      <td>9.441700e+04</td>\n",
       "      <td>3.545425e+04</td>\n",
       "      <td>44.460000</td>\n",
       "      <td>30.890000</td>\n",
       "      <td>17.610000</td>\n",
       "      <td>5123.000000</td>\n",
       "    </tr>\n",
       "    <tr>\n",
       "      <th>max</th>\n",
       "      <td>1.426347e+09</td>\n",
       "      <td>6.220000e+08</td>\n",
       "      <td>2.232990e+08</td>\n",
       "      <td>2.474100e+07</td>\n",
       "      <td>2.242429e+07</td>\n",
       "      <td>232.350000</td>\n",
       "      <td>116.660000</td>\n",
       "      <td>115.690000</td>\n",
       "      <td>118759.000000</td>\n",
       "    </tr>\n",
       "  </tbody>\n",
       "</table>\n",
       "</div>"
      ],
      "text/plain": [
       "       total_vaccinations  people_vaccinated  people_fully_vaccinated  \\\n",
       "count        1.745100e+04       1.655400e+04             1.379500e+04   \n",
       "mean         1.200444e+07       5.704551e+06             3.293973e+06   \n",
       "std          6.622349e+07       2.101612e+07             1.234425e+07   \n",
       "min          0.000000e+00       0.000000e+00             1.000000e+00   \n",
       "25%          1.262015e+05       9.999100e+04             4.832450e+04   \n",
       "50%          8.890780e+05       6.450395e+05             3.632100e+05   \n",
       "75%          4.213660e+06       2.809300e+06             1.635366e+06   \n",
       "max          1.426347e+09       6.220000e+08             2.232990e+08   \n",
       "\n",
       "       daily_vaccinations_raw  daily_vaccinations  \\\n",
       "count            1.442100e+04        3.094800e+04   \n",
       "mean             2.273661e+05        1.149718e+05   \n",
       "std              1.258556e+06        8.460548e+05   \n",
       "min              0.000000e+00        0.000000e+00   \n",
       "25%              4.324000e+03        8.520000e+02   \n",
       "50%              2.133600e+04        6.471000e+03   \n",
       "75%              9.441700e+04        3.545425e+04   \n",
       "max              2.474100e+07        2.242429e+07   \n",
       "\n",
       "       total_vaccinations_per_hundred  people_vaccinated_per_hundred  \\\n",
       "count                    17451.000000                   16554.000000   \n",
       "mean                        29.283554                      19.181574   \n",
       "std                         35.042304                      20.734193   \n",
       "min                          0.000000                       0.000000   \n",
       "25%                          2.970000                       2.580000   \n",
       "50%                         14.510000                      10.730000   \n",
       "75%                         44.460000                      30.890000   \n",
       "max                        232.350000                     116.660000   \n",
       "\n",
       "       people_fully_vaccinated_per_hundred  daily_vaccinations_per_million  \n",
       "count                         13795.000000                    30948.000000  \n",
       "mean                             12.340698                     3426.365969  \n",
       "std                              15.857682                     4572.377684  \n",
       "min                               0.000000                        0.000000  \n",
       "25%                               1.320000                      412.000000  \n",
       "50%                               5.560000                     1851.000000  \n",
       "75%                              17.610000                     5123.000000  \n",
       "max                             115.690000                   118759.000000  "
      ]
     },
     "execution_count": 15,
     "metadata": {},
     "output_type": "execute_result"
    }
   ],
   "source": [
    "cv_data.describe()"
   ]
  },
  {
   "cell_type": "code",
   "execution_count": 16,
   "metadata": {},
   "outputs": [
    {
     "data": {
      "image/png": "[encoded data removed]",
      "text/plain": [
       "<Figure size 800x550 with 1 Axes>"
      ]
     },
     "metadata": {},
     "output_type": "display_data"
    }
   ],
   "source": [
    "sns.heatmap(cv_data.isnull(), yticklabels=False, cbar=False, cmap='viridis')\n",
    "plt.title('Train Data Null Values (train_df data)')\n",
    "plt.show()"
   ]
  },
  {
   "cell_type": "code",
   "execution_count": 20,
   "metadata": {},
   "outputs": [],
   "source": [
    "df = cv_data\n",
    "df['total_vaccinations'] = df['total_vaccinations'].replace({np.nan:df['total_vaccinations'].mean()})"
   ]
  },
  {
   "cell_type": "code",
   "execution_count": 21,
   "metadata": {},
   "outputs": [
    {
     "data": {
      "image/png": "[encoded data removed]",
      "text/plain": [
       "<Figure size 800x550 with 1 Axes>"
      ]
     },
     "metadata": {},
     "output_type": "display_data"
    }
   ],
   "source": [
    "sns.heatmap(cv_data.isnull(), yticklabels=False, cbar=False, cmap='viridis')\n",
    "plt.title('Train Data Null Values (train_df data)')\n",
    "plt.show()"
   ]
  },
  {
   "cell_type": "code",
   "execution_count": 27,
   "metadata": {},
   "outputs": [
    {
     "data": {
      "text/html": [
       "<style type=\"text/css\">\n",
       "#T_d0f70_row10_col1, #T_d0f70_row16_col1, #T_d0f70_row18_col1 {\n",
       "  background-color: lightgreen;\n",
       "}\n",
       "</style>\n",
       "<table id=\"T_d0f70\">\n",
       "  <thead>\n",
       "    <tr>\n",
       "      <th class=\"blank level0\" >&nbsp;</th>\n",
       "      <th id=\"T_d0f70_level0_col0\" class=\"col_heading level0 col0\" >Description</th>\n",
       "      <th id=\"T_d0f70_level0_col1\" class=\"col_heading level0 col1\" >Value</th>\n",
       "    </tr>\n",
       "  </thead>\n",
       "  <tbody>\n",
       "    <tr>\n",
       "      <th id=\"T_d0f70_level0_row0\" class=\"row_heading level0 row0\" >0</th>\n",
       "      <td id=\"T_d0f70_row0_col0\" class=\"data row0 col0\" >Session id</td>\n",
       "      <td id=\"T_d0f70_row0_col1\" class=\"data row0 col1\" >3650</td>\n",
       "    </tr>\n",
       "    <tr>\n",
       "      <th id=\"T_d0f70_level0_row1\" class=\"row_heading level0 row1\" >1</th>\n",
       "      <td id=\"T_d0f70_row1_col0\" class=\"data row1 col0\" >Target</td>\n",
       "      <td id=\"T_d0f70_row1_col1\" class=\"data row1 col1\" >total_vaccinations</td>\n",
       "    </tr>\n",
       "    <tr>\n",
       "      <th id=\"T_d0f70_level0_row2\" class=\"row_heading level0 row2\" >2</th>\n",
       "      <td id=\"T_d0f70_row2_col0\" class=\"data row2 col0\" >Target type</td>\n",
       "      <td id=\"T_d0f70_row2_col1\" class=\"data row2 col1\" >Regression</td>\n",
       "    </tr>\n",
       "    <tr>\n",
       "      <th id=\"T_d0f70_level0_row3\" class=\"row_heading level0 row3\" >3</th>\n",
       "      <td id=\"T_d0f70_row3_col0\" class=\"data row3 col0\" >Original data shape</td>\n",
       "      <td id=\"T_d0f70_row3_col1\" class=\"data row3 col1\" >(31240, 15)</td>\n",
       "    </tr>\n",
       "    <tr>\n",
       "      <th id=\"T_d0f70_level0_row4\" class=\"row_heading level0 row4\" >4</th>\n",
       "      <td id=\"T_d0f70_row4_col0\" class=\"data row4 col0\" >Transformed data shape</td>\n",
       "      <td id=\"T_d0f70_row4_col1\" class=\"data row4 col1\" >(31240, 15)</td>\n",
       "    </tr>\n",
       "    <tr>\n",
       "      <th id=\"T_d0f70_level0_row5\" class=\"row_heading level0 row5\" >5</th>\n",
       "      <td id=\"T_d0f70_row5_col0\" class=\"data row5 col0\" >Transformed train set shape</td>\n",
       "      <td id=\"T_d0f70_row5_col1\" class=\"data row5 col1\" >(21868, 15)</td>\n",
       "    </tr>\n",
       "    <tr>\n",
       "      <th id=\"T_d0f70_level0_row6\" class=\"row_heading level0 row6\" >6</th>\n",
       "      <td id=\"T_d0f70_row6_col0\" class=\"data row6 col0\" >Transformed test set shape</td>\n",
       "      <td id=\"T_d0f70_row6_col1\" class=\"data row6 col1\" >(9372, 15)</td>\n",
       "    </tr>\n",
       "    <tr>\n",
       "      <th id=\"T_d0f70_level0_row7\" class=\"row_heading level0 row7\" >7</th>\n",
       "      <td id=\"T_d0f70_row7_col0\" class=\"data row7 col0\" >Numeric features</td>\n",
       "      <td id=\"T_d0f70_row7_col1\" class=\"data row7 col1\" >8</td>\n",
       "    </tr>\n",
       "    <tr>\n",
       "      <th id=\"T_d0f70_level0_row8\" class=\"row_heading level0 row8\" >8</th>\n",
       "      <td id=\"T_d0f70_row8_col0\" class=\"data row8 col0\" >Categorical features</td>\n",
       "      <td id=\"T_d0f70_row8_col1\" class=\"data row8 col1\" >6</td>\n",
       "    </tr>\n",
       "    <tr>\n",
       "      <th id=\"T_d0f70_level0_row9\" class=\"row_heading level0 row9\" >9</th>\n",
       "      <td id=\"T_d0f70_row9_col0\" class=\"data row9 col0\" >Rows with missing values</td>\n",
       "      <td id=\"T_d0f70_row9_col1\" class=\"data row9 col1\" >62.3%</td>\n",
       "    </tr>\n",
       "    <tr>\n",
       "      <th id=\"T_d0f70_level0_row10\" class=\"row_heading level0 row10\" >10</th>\n",
       "      <td id=\"T_d0f70_row10_col0\" class=\"data row10 col0\" >Preprocess</td>\n",
       "      <td id=\"T_d0f70_row10_col1\" class=\"data row10 col1\" >True</td>\n",
       "    </tr>\n",
       "    <tr>\n",
       "      <th id=\"T_d0f70_level0_row11\" class=\"row_heading level0 row11\" >11</th>\n",
       "      <td id=\"T_d0f70_row11_col0\" class=\"data row11 col0\" >Imputation type</td>\n",
       "      <td id=\"T_d0f70_row11_col1\" class=\"data row11 col1\" >simple</td>\n",
       "    </tr>\n",
       "    <tr>\n",
       "      <th id=\"T_d0f70_level0_row12\" class=\"row_heading level0 row12\" >12</th>\n",
       "      <td id=\"T_d0f70_row12_col0\" class=\"data row12 col0\" >Numeric imputation</td>\n",
       "      <td id=\"T_d0f70_row12_col1\" class=\"data row12 col1\" >mean</td>\n",
       "    </tr>\n",
       "    <tr>\n",
       "      <th id=\"T_d0f70_level0_row13\" class=\"row_heading level0 row13\" >13</th>\n",
       "      <td id=\"T_d0f70_row13_col0\" class=\"data row13 col0\" >Categorical imputation</td>\n",
       "      <td id=\"T_d0f70_row13_col1\" class=\"data row13 col1\" >mode</td>\n",
       "    </tr>\n",
       "    <tr>\n",
       "      <th id=\"T_d0f70_level0_row14\" class=\"row_heading level0 row14\" >14</th>\n",
       "      <td id=\"T_d0f70_row14_col0\" class=\"data row14 col0\" >Maximum one-hot encoding</td>\n",
       "      <td id=\"T_d0f70_row14_col1\" class=\"data row14 col1\" >25</td>\n",
       "    </tr>\n",
       "    <tr>\n",
       "      <th id=\"T_d0f70_level0_row15\" class=\"row_heading level0 row15\" >15</th>\n",
       "      <td id=\"T_d0f70_row15_col0\" class=\"data row15 col0\" >Encoding method</td>\n",
       "      <td id=\"T_d0f70_row15_col1\" class=\"data row15 col1\" >None</td>\n",
       "    </tr>\n",
       "    <tr>\n",
       "      <th id=\"T_d0f70_level0_row16\" class=\"row_heading level0 row16\" >16</th>\n",
       "      <td id=\"T_d0f70_row16_col0\" class=\"data row16 col0\" >Normalize</td>\n",
       "      <td id=\"T_d0f70_row16_col1\" class=\"data row16 col1\" >True</td>\n",
       "    </tr>\n",
       "    <tr>\n",
       "      <th id=\"T_d0f70_level0_row17\" class=\"row_heading level0 row17\" >17</th>\n",
       "      <td id=\"T_d0f70_row17_col0\" class=\"data row17 col0\" >Normalize method</td>\n",
       "      <td id=\"T_d0f70_row17_col1\" class=\"data row17 col1\" >zscore</td>\n",
       "    </tr>\n",
       "    <tr>\n",
       "      <th id=\"T_d0f70_level0_row18\" class=\"row_heading level0 row18\" >18</th>\n",
       "      <td id=\"T_d0f70_row18_col0\" class=\"data row18 col0\" >PCA</td>\n",
       "      <td id=\"T_d0f70_row18_col1\" class=\"data row18 col1\" >True</td>\n",
       "    </tr>\n",
       "    <tr>\n",
       "      <th id=\"T_d0f70_level0_row19\" class=\"row_heading level0 row19\" >19</th>\n",
       "      <td id=\"T_d0f70_row19_col0\" class=\"data row19 col0\" >PCA method</td>\n",
       "      <td id=\"T_d0f70_row19_col1\" class=\"data row19 col1\" >linear</td>\n",
       "    </tr>\n",
       "    <tr>\n",
       "      <th id=\"T_d0f70_level0_row20\" class=\"row_heading level0 row20\" >20</th>\n",
       "      <td id=\"T_d0f70_row20_col0\" class=\"data row20 col0\" >PCA components</td>\n",
       "      <td id=\"T_d0f70_row20_col1\" class=\"data row20 col1\" >14</td>\n",
       "    </tr>\n",
       "    <tr>\n",
       "      <th id=\"T_d0f70_level0_row21\" class=\"row_heading level0 row21\" >21</th>\n",
       "      <td id=\"T_d0f70_row21_col0\" class=\"data row21 col0\" >Fold Generator</td>\n",
       "      <td id=\"T_d0f70_row21_col1\" class=\"data row21 col1\" >KFold</td>\n",
       "    </tr>\n",
       "    <tr>\n",
       "      <th id=\"T_d0f70_level0_row22\" class=\"row_heading level0 row22\" >22</th>\n",
       "      <td id=\"T_d0f70_row22_col0\" class=\"data row22 col0\" >Fold Number</td>\n",
       "      <td id=\"T_d0f70_row22_col1\" class=\"data row22 col1\" >10</td>\n",
       "    </tr>\n",
       "    <tr>\n",
       "      <th id=\"T_d0f70_level0_row23\" class=\"row_heading level0 row23\" >23</th>\n",
       "      <td id=\"T_d0f70_row23_col0\" class=\"data row23 col0\" >CPU Jobs</td>\n",
       "      <td id=\"T_d0f70_row23_col1\" class=\"data row23 col1\" >-1</td>\n",
       "    </tr>\n",
       "    <tr>\n",
       "      <th id=\"T_d0f70_level0_row24\" class=\"row_heading level0 row24\" >24</th>\n",
       "      <td id=\"T_d0f70_row24_col0\" class=\"data row24 col0\" >Use GPU</td>\n",
       "      <td id=\"T_d0f70_row24_col1\" class=\"data row24 col1\" >False</td>\n",
       "    </tr>\n",
       "    <tr>\n",
       "      <th id=\"T_d0f70_level0_row25\" class=\"row_heading level0 row25\" >25</th>\n",
       "      <td id=\"T_d0f70_row25_col0\" class=\"data row25 col0\" >Log Experiment</td>\n",
       "      <td id=\"T_d0f70_row25_col1\" class=\"data row25 col1\" >False</td>\n",
       "    </tr>\n",
       "    <tr>\n",
       "      <th id=\"T_d0f70_level0_row26\" class=\"row_heading level0 row26\" >26</th>\n",
       "      <td id=\"T_d0f70_row26_col0\" class=\"data row26 col0\" >Experiment Name</td>\n",
       "      <td id=\"T_d0f70_row26_col1\" class=\"data row26 col1\" >reg-default-name</td>\n",
       "    </tr>\n",
       "    <tr>\n",
       "      <th id=\"T_d0f70_level0_row27\" class=\"row_heading level0 row27\" >27</th>\n",
       "      <td id=\"T_d0f70_row27_col0\" class=\"data row27 col0\" >USI</td>\n",
       "      <td id=\"T_d0f70_row27_col1\" class=\"data row27 col1\" >4231</td>\n",
       "    </tr>\n",
       "  </tbody>\n",
       "</table>\n"
      ],
      "text/plain": [
       "<pandas.io.formats.style.Styler at 0x2d52b243010>"
      ]
     },
     "metadata": {},
     "output_type": "display_data"
    }
   ],
   "source": [
    "reg = setup(data = df,target = 'total_vaccinations', numeric_imputation = 'mean',normalize = True,\n",
    "             ignore_features = [],pca=True,\n",
    "    pca_method='linear',pca_components=14,session_id = 3650)"
   ]
  },
  {
   "cell_type": "markdown",
   "metadata": {},
   "source": [
    "## EDA"
   ]
  },
  {
   "cell_type": "code",
   "execution_count": null,
   "metadata": {},
   "outputs": [],
   "source": []
  },
  {
   "cell_type": "markdown",
   "metadata": {},
   "source": [
    "## Data Preprocessing"
   ]
  },
  {
   "cell_type": "code",
   "execution_count": null,
   "metadata": {},
   "outputs": [],
   "source": []
  },
  {
   "cell_type": "markdown",
   "metadata": {},
   "source": [
    "## Strorytelling - Visualization"
   ]
  },
  {
   "cell_type": "code",
   "execution_count": null,
   "metadata": {},
   "outputs": [],
   "source": []
  },
  {
   "cell_type": "markdown",
   "metadata": {},
   "source": [
    "## Prepare Data for Machine learning"
   ]
  },
  {
   "cell_type": "code",
   "execution_count": null,
   "metadata": {},
   "outputs": [],
   "source": []
  },
  {
   "cell_type": "markdown",
   "metadata": {},
   "source": [
    "## Train your model"
   ]
  },
  {
   "cell_type": "code",
   "execution_count": null,
   "metadata": {},
   "outputs": [],
   "source": []
  },
  {
   "cell_type": "markdown",
   "metadata": {},
   "source": [
    "## Test the model and show the metrics"
   ]
  },
  {
   "cell_type": "code",
   "execution_count": null,
   "metadata": {},
   "outputs": [],
   "source": []
  },
  {
   "cell_type": "markdown",
   "metadata": {},
   "source": [
    "## Save your final model"
   ]
  },
  {
   "cell_type": "code",
   "execution_count": null,
   "metadata": {},
   "outputs": [],
   "source": []
  },
  {
   "cell_type": "markdown",
   "metadata": {},
   "source": [
    "## Send us the Result (Maktabkhoone)"
   ]
  }
 ],
 "metadata": {
  "kernelspec": {
   "display_name": "Python 3",
   "language": "python",
   "name": "python3"
  },
  "language_info": {
   "codemirror_mode": {
    "name": "ipython",
    "version": 3
   },
   "file_extension": ".py",
   "mimetype": "text/x-python",
   "name": "python",
   "nbconvert_exporter": "python",
   "pygments_lexer": "ipython3",
   "version": "3.11.9"
  }
 },
 "nbformat": 4,
 "nbformat_minor": 2
}
